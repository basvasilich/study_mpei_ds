{
 "cells": [
  {
   "cell_type": "markdown",
   "metadata": {},
   "source": [
    "# Отчет по практической работе аппроксимация методом наименьших квадратов\n",
    "\n",
    "### Подготовил: Пацев В. В.\n",
    "### Студент группы: Иэс-160п-18"
   ]
  },
  {
   "cell_type": "markdown",
   "metadata": {},
   "source": [
    "Задание будем делать помощью языка Python инструмента [Jupyter Notebook](https://jupyter.org/)\n",
    "и общедоступных библиотек с открытым кодом:\n",
    "- [Pandas](https://pandas.pydata.org/)\n",
    "- [Numpy](https://numpy.org/)\n",
    "- [Matplotlib](https://matplotlib.org/)\n",
    "- [Scipy](https://www.scipy.org/)"
   ]
  },
  {
   "cell_type": "markdown",
   "metadata": {},
   "source": [
    "Добавим библиотеки"
   ]
  },
  {
   "cell_type": "code",
   "execution_count": 163,
   "metadata": {},
   "outputs": [],
   "source": [
    "import math\n",
    "import pandas as pd\n",
    "import numpy as np\n",
    "import matplotlib.pyplot as plt\n",
    "from scipy import stats\n",
    "from scipy.optimize import curve_fit\n",
    "\n",
    "\n",
    "plt.close(\"all\")"
   ]
  },
  {
   "cell_type": "markdown",
   "metadata": {},
   "source": [
    "Подготовим данные и dataframe"
   ]
  },
  {
   "cell_type": "code",
   "execution_count": 108,
   "metadata": {},
   "outputs": [
    {
     "data": {
      "text/html": [
       "<div>\n",
       "<style scoped>\n",
       "    .dataframe tbody tr th:only-of-type {\n",
       "        vertical-align: middle;\n",
       "    }\n",
       "\n",
       "    .dataframe tbody tr th {\n",
       "        vertical-align: top;\n",
       "    }\n",
       "\n",
       "    .dataframe thead th {\n",
       "        text-align: right;\n",
       "    }\n",
       "</style>\n",
       "<table border=\"1\" class=\"dataframe\">\n",
       "  <thead>\n",
       "    <tr style=\"text-align: right;\">\n",
       "      <th></th>\n",
       "      <th>X</th>\n",
       "      <th>Y</th>\n",
       "    </tr>\n",
       "  </thead>\n",
       "  <tbody>\n",
       "    <tr>\n",
       "      <th>0</th>\n",
       "      <td>1.00</td>\n",
       "      <td>12.49</td>\n",
       "    </tr>\n",
       "    <tr>\n",
       "      <th>1</th>\n",
       "      <td>1.71</td>\n",
       "      <td>4.76</td>\n",
       "    </tr>\n",
       "    <tr>\n",
       "      <th>2</th>\n",
       "      <td>2.42</td>\n",
       "      <td>2.55</td>\n",
       "    </tr>\n",
       "    <tr>\n",
       "      <th>3</th>\n",
       "      <td>3.13</td>\n",
       "      <td>1.60</td>\n",
       "    </tr>\n",
       "    <tr>\n",
       "      <th>4</th>\n",
       "      <td>3.84</td>\n",
       "      <td>1.11</td>\n",
       "    </tr>\n",
       "    <tr>\n",
       "      <th>5</th>\n",
       "      <td>4.55</td>\n",
       "      <td>0.82</td>\n",
       "    </tr>\n",
       "    <tr>\n",
       "      <th>6</th>\n",
       "      <td>5.26</td>\n",
       "      <td>0.63</td>\n",
       "    </tr>\n",
       "    <tr>\n",
       "      <th>7</th>\n",
       "      <td>5.97</td>\n",
       "      <td>0.50</td>\n",
       "    </tr>\n",
       "  </tbody>\n",
       "</table>\n",
       "</div>"
      ],
      "text/plain": [
       "      X      Y\n",
       "0  1.00  12.49\n",
       "1  1.71   4.76\n",
       "2  2.42   2.55\n",
       "3  3.13   1.60\n",
       "4  3.84   1.11\n",
       "5  4.55   0.82\n",
       "6  5.26   0.63\n",
       "7  5.97   0.50"
      ]
     },
     "execution_count": 108,
     "metadata": {},
     "output_type": "execute_result"
    }
   ],
   "source": [
    "data = [\n",
    "    [1, 12.49], \n",
    "    [1.71, 4.76], \n",
    "    [2.42, 2.55], \n",
    "    [3.13, 1.60], \n",
    "    [3.84, 1.11], \n",
    "    [4.55, 0.82],\n",
    "    [5.26, 0.63],\n",
    "    [5.97, 0.50]]\n",
    "df = pd.DataFrame.from_records(data, columns=('X', 'Y'))\n",
    "df"
   ]
  },
  {
   "cell_type": "markdown",
   "metadata": {},
   "source": [
    "Визуализируем известные точки"
   ]
  },
  {
   "cell_type": "code",
   "execution_count": 142,
   "metadata": {},
   "outputs": [
    {
     "data": {
      "image/png": "[encoded data removed]",
      "text/plain": [
       "<Figure size 432x288 with 1 Axes>"
      ]
     },
     "metadata": {
      "needs_background": "light"
     },
     "output_type": "display_data"
    }
   ],
   "source": [
    "plt.plot(df['X'], df['Y'], 'o', label='Исходные данные')\n",
    "plt.legend()\n",
    "plt.show()"
   ]
  },
  {
   "cell_type": "markdown",
   "metadata": {},
   "source": [
    "Подготовим функцию которая находит оптимальные параметры функции с помощью библиотеки [scipy.optimize.curve_fit](https://docs.scipy.org/doc/scipy/reference/generated/scipy.optimize.curve_fit.html) и визуализирует результат \n",
    "\n",
    "Так же расчитаем коэффициент детерминации по формуле:\n",
    "\n",
    "$R^2 =1-\\frac {\\hat{\\sigma}^2}{\\hat{\\sigma}^2_y}=1-\\frac {SS_{res}/n}{SS_{tot}/n}=1-\\frac {SS_{res}} {SS_{tot}},$\n",
    "\n",
    "где $SS_{res}=\\sum^n_{i=1}e^2_i=\\sum^n_{i=1} (y_i-\\hat y_i)^2$ — сумма квадратов остатков регрессии, $y_i,\\hat y_i$ — фактические и расчётные значения объясняемой переменной.\n",
    "\n",
    "$SS_{tot}=\\sum^n_{i=1} (y_i-\\overline y)^2=n \\hat \\sigma^2_y$ — общая сумма квадратов.\n",
    "\n",
    " "
   ]
  },
  {
   "cell_type": "code",
   "execution_count": 156,
   "metadata": {},
   "outputs": [],
   "source": [
    "def get_solution(func, x, y):\n",
    "    popt, pcov = curve_fit(func, x, y)\n",
    "\n",
    "    plt.plot(x, y, 'o', label='Исходные данные')\n",
    "    plt.plot(x,  func(x, *popt), 'r', label='Найденная функция')\n",
    "    plt.legend()\n",
    "    plt.show()\n",
    "\n",
    "    ss_res = np.sum((y - func(x, *popt)) ** 2)\n",
    "    ss_tot = np.sum((y - np.mean(y)) ** 2)\n",
    "    \n",
    "    return  1 - (ss_res / ss_tot), popt"
   ]
  },
  {
   "cell_type": "markdown",
   "metadata": {},
   "source": [
    "### Аппроксимация методом наименьших квадратов"
   ]
  },
  {
   "cell_type": "markdown",
   "metadata": {},
   "source": [
    "#### Линейная функция\n",
    "\n",
    "$\n",
    "f(x, a, b) = a \\cdot x + b\n",
    "$"
   ]
  },
  {
   "cell_type": "code",
   "execution_count": 157,
   "metadata": {},
   "outputs": [
    {
     "data": {
      "image/png": "[encoded data removed]",
      "text/plain": [
       "<Figure size 432x288 with 1 Axes>"
      ]
     },
     "metadata": {
      "needs_background": "light"
     },
     "output_type": "display_data"
    },
    {
     "name": "stdout",
     "output_type": "stream",
     "text": [
      "Коэффициент детерминации: 0.6266\n",
      "Параметры функции: a = -1.849, b = 9.500\n"
     ]
    }
   ],
   "source": [
    "def func_1(x, a, b):\n",
    "    return a * x + b\n",
    "\n",
    "r1, popt1 = get_solution(func_1, df['X'], df['Y'])\n",
    "\n",
    "print('Коэффициент детерминации: {0:.4f}'.format(r1))\n",
    "print('Параметры функции: a = {0:.3f}, b = {1:.3f}'.format(*popt1))"
   ]
  },
  {
   "cell_type": "markdown",
   "metadata": {},
   "source": [
    "#### Квадратичная функция\n",
    "\n",
    "$\n",
    "f(x, a, b, c) = a \\cdot x^2 + b \\cdot x + c\n",
    "$"
   ]
  },
  {
   "cell_type": "code",
   "execution_count": 158,
   "metadata": {},
   "outputs": [
    {
     "data": {
      "image/png": "[encoded data removed]",
      "text/plain": [
       "<Figure size 432x288 with 1 Axes>"
      ]
     },
     "metadata": {
      "needs_background": "light"
     },
     "output_type": "display_data"
    },
    {
     "name": "stdout",
     "output_type": "stream",
     "text": [
      "Коэффициент детерминации: 0.8987\n",
      "Параметры функции: a = 0.858, b = -7.829, c = 17.650\n"
     ]
    }
   ],
   "source": [
    "def func_2(x, a, b, c):\n",
    "    return a * (x) ** 2 + b * x + c\n",
    "\n",
    "r2, popt2 = get_solution(func_2, df['X'], df['Y'])\n",
    "\n",
    "print('Коэффициент детерминации: {0:.4f}'.format(r2))\n",
    "print('Параметры функции: a = {0:.3f}, b = {1:.3f}, c = {2:.3f}'.format(*popt2))"
   ]
  },
  {
   "cell_type": "markdown",
   "metadata": {},
   "source": [
    "#### Степенная функция\n",
    "\n",
    "$\n",
    "f(x, a, b) = a \\cdot x^b\n",
    "$"
   ]
  },
  {
   "cell_type": "code",
   "execution_count": 159,
   "metadata": {},
   "outputs": [
    {
     "data": {
      "image/png": "[encoded data removed]",
      "text/plain": [
       "<Figure size 432x288 with 1 Axes>"
      ]
     },
     "metadata": {
      "needs_background": "light"
     },
     "output_type": "display_data"
    },
    {
     "name": "stdout",
     "output_type": "stream",
     "text": [
      "Коэффициент детерминации: 1.0000\n",
      "Параметры функции: a = 12.490, b = -1.799\n"
     ]
    }
   ],
   "source": [
    "def func_3(x, a, b):\n",
    "    return a * (x) ** b\n",
    "\n",
    "r3, popt3 = get_solution(func_3, df['X'], df['Y'])\n",
    "\n",
    "print('Коэффициент детерминации: {0:.4f}'.format(r3))\n",
    "print('Параметры функции: a = {0:.3f}, b = {1:.3f}'.format(*popt3))"
   ]
  },
  {
   "cell_type": "markdown",
   "metadata": {},
   "source": [
    "#### Показательная функция\n",
    "\n",
    "$\n",
    "f(x, a, b) = a\\cdot e^{b \\cdot x}\n",
    "$"
   ]
  },
  {
   "cell_type": "code",
   "execution_count": 160,
   "metadata": {},
   "outputs": [
    {
     "data": {
      "image/png": "[encoded data removed]",
      "text/plain": [
       "<Figure size 432x288 with 1 Axes>"
      ]
     },
     "metadata": {
      "needs_background": "light"
     },
     "output_type": "display_data"
    },
    {
     "name": "stdout",
     "output_type": "stream",
     "text": [
      "Коэффициент детерминации: 0.9821\n",
      "Параметры функции: a = 37.499, b = -1.120\n"
     ]
    }
   ],
   "source": [
    "def func_4(x, a, b):\n",
    "    return a * pow(math.e, x * b)\n",
    "\n",
    "r4, popt4 = get_solution(func_4, df['X'], df['Y'])\n",
    "\n",
    "print('Коэффициент детерминации: {0:.4f}'.format(r4))\n",
    "print('Параметры функции: a = {0:.3f}, b = {1:.3f}'.format(*popt4))"
   ]
  },
  {
   "cell_type": "markdown",
   "metadata": {},
   "source": [
    "#### Логарифмическая функция\n",
    "\n",
    "$\n",
    "f(x, a, b) = a \\cdot \\ln(x) + b\n",
    "$"
   ]
  },
  {
   "cell_type": "code",
   "execution_count": 161,
   "metadata": {},
   "outputs": [
    {
     "data": {
      "image/png": "[encoded data removed]",
      "text/plain": [
       "<Figure size 432x288 with 1 Axes>"
      ]
     },
     "metadata": {
      "needs_background": "light"
     },
     "output_type": "display_data"
    },
    {
     "name": "stdout",
     "output_type": "stream",
     "text": [
      "Коэффициент детерминации: 0.8344\n",
      "Параметры функции: a = -6.096, b = 9.815\n"
     ]
    }
   ],
   "source": [
    "def func_5(x, a, b):\n",
    "    return a * np.log(x) + b\n",
    "\n",
    "r5, popt5 = get_solution(func_5, df['X'], df['Y'])\n",
    "\n",
    "print('Коэффициент детерминации: {0:.4f}'.format(r5))\n",
    "print('Параметры функции: a = {0:.3f}, b = {1:.3f}'.format(*popt5))"
   ]
  },
  {
   "cell_type": "markdown",
   "metadata": {},
   "source": [
    "#### Гиперболическая функция\n",
    "\n",
    "$\n",
    "f(x, a, b) = a \\cdot \\frac{1}{x} + b\n",
    "$"
   ]
  },
  {
   "cell_type": "code",
   "execution_count": 162,
   "metadata": {},
   "outputs": [
    {
     "data": {
      "image/png": "[encoded data removed]",
      "text/plain": [
       "<Figure size 432x288 with 1 Axes>"
      ]
     },
     "metadata": {
      "needs_background": "light"
     },
     "output_type": "display_data"
    },
    {
     "name": "stdout",
     "output_type": "stream",
     "text": [
      "Коэффициент детерминации: 0.9725\n",
      "Параметры функции: a = 14.282, b = -2.575\n"
     ]
    }
   ],
   "source": [
    "def func_6(x, a, b):\n",
    "    return a/x + b\n",
    "\n",
    "r6, popt6 = get_solution(func_6, df['X'], df['Y'])\n",
    "\n",
    "print('Коэффициент детерминации: {0:.4f}'.format(r6))\n",
    "print('Параметры функции: a = {0:.3f}, b = {1:.3f}'.format(*popt6))"
   ]
  },
  {
   "cell_type": "markdown",
   "metadata": {},
   "source": [
    "### Вывод"
   ]
  },
  {
   "cell_type": "markdown",
   "metadata": {},
   "source": [
    "Исходя их коэфициента детерминации лучше всего подходит cтепенная функция: \n",
    "\n",
    "$$f(x) = 12.49 \\cdot x^{-1.799}$$"
   ]
  }
 ],
 "metadata": {
  "kernelspec": {
   "display_name": "Python 3",
   "language": "python",
   "name": "python3"
  },
  "language_info": {
   "codemirror_mode": {
    "name": "ipython",
    "version": 3
   },
   "file_extension": ".py",
   "mimetype": "text/x-python",
   "name": "python",
   "nbconvert_exporter": "python",
   "pygments_lexer": "ipython3",
   "version": "3.7.4"
  }
 },
 "nbformat": 4,
 "nbformat_minor": 2
}
