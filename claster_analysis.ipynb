{
 "cells": [
  {
   "cell_type": "markdown",
   "metadata": {},
   "source": [
    "# Отчет по практической работе решение задач кластерного анализа\n",
    "\n",
    "### Подготовил: Пацев В. В.\n",
    "### Студент группы: Иэс-160п-18"
   ]
  },
  {
   "cell_type": "markdown",
   "metadata": {},
   "source": [
    "Задание будем делать помощью языка Python инструмента [Jupyter Notebook](https://jupyter.org/)\n",
    "и общедоступных библиотек с открытым кодом:\n",
    "- [Pandas](https://pandas.pydata.org/)\n",
    "- [Numpy](https://numpy.org/)\n",
    "- [Matplotlib](https://matplotlib.org/)\n",
    "- [Scipy](https://www.scipy.org/)"
   ]
  },
  {
   "cell_type": "markdown",
   "metadata": {},
   "source": [
    "Добавим библиотеки"
   ]
  },
  {
   "cell_type": "code",
   "execution_count": 1,
   "metadata": {},
   "outputs": [],
   "source": [
    "import pandas as pd\n",
    "import numpy as np\n",
    "import matplotlib.pyplot as plt\n",
    "from scipy.cluster.hierarchy import dendrogram, linkage\n",
    "\n",
    "plt.close(\"all\")"
   ]
  },
  {
   "cell_type": "markdown",
   "metadata": {},
   "source": [
    "Подготовим данные из исходных данных задания из **варианта №6** и подготовим dataframe"
   ]
  },
  {
   "cell_type": "code",
   "execution_count": 2,
   "metadata": {
    "scrolled": false
   },
   "outputs": [
    {
     "data": {
      "text/html": [
       "<div>\n",
       "<style scoped>\n",
       "    .dataframe tbody tr th:only-of-type {\n",
       "        vertical-align: middle;\n",
       "    }\n",
       "\n",
       "    .dataframe tbody tr th {\n",
       "        vertical-align: top;\n",
       "    }\n",
       "\n",
       "    .dataframe thead th {\n",
       "        text-align: right;\n",
       "    }\n",
       "</style>\n",
       "<table border=\"1\" class=\"dataframe\">\n",
       "  <thead>\n",
       "    <tr style=\"text-align: right;\">\n",
       "      <th></th>\n",
       "      <th>X1</th>\n",
       "      <th>X2</th>\n",
       "    </tr>\n",
       "  </thead>\n",
       "  <tbody>\n",
       "    <tr>\n",
       "      <th>1</th>\n",
       "      <td>8.22</td>\n",
       "      <td>0.25</td>\n",
       "    </tr>\n",
       "    <tr>\n",
       "      <th>2</th>\n",
       "      <td>4.33</td>\n",
       "      <td>0.49</td>\n",
       "    </tr>\n",
       "    <tr>\n",
       "      <th>3</th>\n",
       "      <td>6.45</td>\n",
       "      <td>0.51</td>\n",
       "    </tr>\n",
       "    <tr>\n",
       "      <th>4</th>\n",
       "      <td>6.39</td>\n",
       "      <td>0.27</td>\n",
       "    </tr>\n",
       "    <tr>\n",
       "      <th>5</th>\n",
       "      <td>4.92</td>\n",
       "      <td>0.32</td>\n",
       "    </tr>\n",
       "    <tr>\n",
       "      <th>6</th>\n",
       "      <td>6.50</td>\n",
       "      <td>0.43</td>\n",
       "    </tr>\n",
       "  </tbody>\n",
       "</table>\n",
       "</div>"
      ],
      "text/plain": [
       "     X1    X2\n",
       "1  8.22  0.25\n",
       "2  4.33  0.49\n",
       "3  6.45  0.51\n",
       "4  6.39  0.27\n",
       "5  4.92  0.32\n",
       "6  6.50  0.43"
      ]
     },
     "execution_count": 2,
     "metadata": {},
     "output_type": "execute_result"
    }
   ],
   "source": [
    "data = [\n",
    "    [8.22,0.25], \n",
    "    [4.33, 0.49], \n",
    "    [6.45,0.51], \n",
    "    [6.39,0.27], \n",
    "    [4.92,0.32], \n",
    "    [6.5,0.43]]\n",
    "df = pd.DataFrame.from_records(data, columns=('X1', 'X2'), index=[1,2,3,4,5,6])\n",
    "df\n",
    "\n",
    "# Матрица объектов"
   ]
  },
  {
   "cell_type": "markdown",
   "metadata": {},
   "source": [
    "Визуализируем распределиние объектов по пространству признаков X1, X2"
   ]
  },
  {
   "cell_type": "code",
   "execution_count": 3,
   "metadata": {
    "scrolled": true
   },
   "outputs": [
    {
     "data": {
      "image/png": "[encoded data removed]",
      "text/plain": [
       "<Figure size 432x288 with 1 Axes>"
      ]
     },
     "metadata": {
      "needs_background": "light"
     },
     "output_type": "display_data"
    }
   ],
   "source": [
    "ax = df.plot.scatter(x=\"X1\", y=\"X2\", s=100);\n",
    "for i, point in df.iterrows():\n",
    "    ax.text(point['X1'], point['X2'], \"   \" + str(i))"
   ]
  },
  {
   "cell_type": "markdown",
   "metadata": {},
   "source": [
    "Найдем попарные Евклидово расстояния между объектами по формуле\n",
    "\n",
    "$\n",
    "p(X_iX_j) = \\sqrt{(X1_i-X1_j)^2 + (X2_i-X2_j)^2}\n",
    "$"
   ]
  },
  {
   "cell_type": "code",
   "execution_count": 4,
   "metadata": {},
   "outputs": [
    {
     "data": {
      "text/html": [
       "<div>\n",
       "<style scoped>\n",
       "    .dataframe tbody tr th:only-of-type {\n",
       "        vertical-align: middle;\n",
       "    }\n",
       "\n",
       "    .dataframe tbody tr th {\n",
       "        vertical-align: top;\n",
       "    }\n",
       "\n",
       "    .dataframe thead th {\n",
       "        text-align: right;\n",
       "    }\n",
       "</style>\n",
       "<table border=\"1\" class=\"dataframe\">\n",
       "  <thead>\n",
       "    <tr style=\"text-align: right;\">\n",
       "      <th></th>\n",
       "      <th>1</th>\n",
       "      <th>2</th>\n",
       "      <th>3</th>\n",
       "      <th>4</th>\n",
       "      <th>5</th>\n",
       "      <th>6</th>\n",
       "    </tr>\n",
       "  </thead>\n",
       "  <tbody>\n",
       "    <tr>\n",
       "      <th>1</th>\n",
       "      <td>0.000000</td>\n",
       "      <td>3.897397</td>\n",
       "      <td>1.788994</td>\n",
       "      <td>1.830109</td>\n",
       "      <td>3.300742</td>\n",
       "      <td>1.729393</td>\n",
       "    </tr>\n",
       "    <tr>\n",
       "      <th>2</th>\n",
       "      <td>3.897397</td>\n",
       "      <td>0.000000</td>\n",
       "      <td>2.120094</td>\n",
       "      <td>2.071714</td>\n",
       "      <td>0.614003</td>\n",
       "      <td>2.170829</td>\n",
       "    </tr>\n",
       "    <tr>\n",
       "      <th>3</th>\n",
       "      <td>1.788994</td>\n",
       "      <td>2.120094</td>\n",
       "      <td>0.000000</td>\n",
       "      <td>0.247386</td>\n",
       "      <td>1.541752</td>\n",
       "      <td>0.094340</td>\n",
       "    </tr>\n",
       "    <tr>\n",
       "      <th>4</th>\n",
       "      <td>1.830109</td>\n",
       "      <td>2.071714</td>\n",
       "      <td>0.247386</td>\n",
       "      <td>0.000000</td>\n",
       "      <td>1.470850</td>\n",
       "      <td>0.194165</td>\n",
       "    </tr>\n",
       "    <tr>\n",
       "      <th>5</th>\n",
       "      <td>3.300742</td>\n",
       "      <td>0.614003</td>\n",
       "      <td>1.541752</td>\n",
       "      <td>1.470850</td>\n",
       "      <td>0.000000</td>\n",
       "      <td>1.583824</td>\n",
       "    </tr>\n",
       "    <tr>\n",
       "      <th>6</th>\n",
       "      <td>1.729393</td>\n",
       "      <td>2.170829</td>\n",
       "      <td>0.094340</td>\n",
       "      <td>0.194165</td>\n",
       "      <td>1.583824</td>\n",
       "      <td>0.000000</td>\n",
       "    </tr>\n",
       "  </tbody>\n",
       "</table>\n",
       "</div>"
      ],
      "text/plain": [
       "          1         2         3         4         5         6\n",
       "1  0.000000  3.897397  1.788994  1.830109  3.300742  1.729393\n",
       "2  3.897397  0.000000  2.120094  2.071714  0.614003  2.170829\n",
       "3  1.788994  2.120094  0.000000  0.247386  1.541752  0.094340\n",
       "4  1.830109  2.071714  0.247386  0.000000  1.470850  0.194165\n",
       "5  3.300742  0.614003  1.541752  1.470850  0.000000  1.583824\n",
       "6  1.729393  2.170829  0.094340  0.194165  1.583824  0.000000"
      ]
     },
     "execution_count": 4,
     "metadata": {},
     "output_type": "execute_result"
    }
   ],
   "source": [
    "def get_dst(col):\n",
    "    dst = np.sqrt(\n",
    "        abs(df.iloc[col.name-1]['X1'] - df.iloc[col.index-1]['X1']) ** 2 +\n",
    "        abs(df.iloc[col.name-1]['X2'] - df.iloc[col.index-1]['X2']) ** 2\n",
    "    )\n",
    "    return dst\n",
    "\n",
    "df_distance = pd.DataFrame(index=df.index, columns=df.index).apply(get_dst)\n",
    "df_distance"
   ]
  },
  {
   "cell_type": "markdown",
   "metadata": {},
   "source": [
    "### Принцип «ближайшего соседа»"
   ]
  },
  {
   "cell_type": "markdown",
   "metadata": {},
   "source": [
    "Определим функцию **get_nn** которая определяет ближайшего соседа или дальнего соседа (параметр **is_nearest**)"
   ]
  },
  {
   "cell_type": "code",
   "execution_count": 5,
   "metadata": {},
   "outputs": [],
   "source": [
    "def get_nn(df_d, is_nearest, cluster_1, cluster_2, ):\n",
    "    index = {}\n",
    "    df_d_copy = df_d.copy()\n",
    "   \n",
    "    if type(cluster_1) is tuple and type(cluster_2) is tuple:\n",
    "        new_cluster = (*cluster_1, *cluster_2)\n",
    "    elif type(cluster_1) is tuple:\n",
    "        new_cluster = (*cluster_1, cluster_2)\n",
    "    elif type(cluster_2) is tuple:\n",
    "        new_cluster = (cluster_1, *cluster_2)\n",
    "    else:\n",
    "        new_cluster = (cluster_1, cluster_2)\n",
    "    \n",
    "    index[cluster_2] = new_cluster\n",
    "    \n",
    "    \n",
    "    def fn(x):\n",
    "        if x in new_cluster:\n",
    "            return 0\n",
    "        elif type(x) is tuple and set(x).issubset(set(new_cluster)):\n",
    "            return 0\n",
    "        elif type(x) is tuple:\n",
    "            l = [df_distance.at[k_x, k] for k_x in x for k in new_cluster]\n",
    "        else:\n",
    "            l = [df_distance.at[x, k] for k in new_cluster]\n",
    "        return min(l) if is_nearest else max(l)\n",
    "    \n",
    "    new_data = [fn(i) for i in df_d_copy[cluster_2].index]\n",
    "    \n",
    "    df_d_copy[cluster_2] = new_data\n",
    "    df_d_copy.iloc[list(df_d_copy.index).index(cluster_2)] = new_data\n",
    "    \n",
    "    return df_d_copy.drop(index=cluster_1, columns=cluster_1, inplace=False).rename(index=index, columns=index)\n",
    "        "
   ]
  },
  {
   "cell_type": "markdown",
   "metadata": {},
   "source": [
    "Найдем минимальное расстояние между парами"
   ]
  },
  {
   "cell_type": "code",
   "execution_count": 6,
   "metadata": {},
   "outputs": [
    {
     "data": {
      "text/plain": [
       "0.09433981132056596"
      ]
     },
     "execution_count": 6,
     "metadata": {},
     "output_type": "execute_result"
    }
   ],
   "source": [
    "min1 = df_distance[df_distance > 0].min().min()\n",
    "min1"
   ]
  },
  {
   "cell_type": "markdown",
   "metadata": {},
   "source": [
    "Найдем объекты между которыми это минимальное расстояние"
   ]
  },
  {
   "cell_type": "code",
   "execution_count": 7,
   "metadata": {
    "scrolled": true
   },
   "outputs": [
    {
     "data": {
      "text/html": [
       "<div>\n",
       "<style scoped>\n",
       "    .dataframe tbody tr th:only-of-type {\n",
       "        vertical-align: middle;\n",
       "    }\n",
       "\n",
       "    .dataframe tbody tr th {\n",
       "        vertical-align: top;\n",
       "    }\n",
       "\n",
       "    .dataframe thead th {\n",
       "        text-align: right;\n",
       "    }\n",
       "</style>\n",
       "<table border=\"1\" class=\"dataframe\">\n",
       "  <thead>\n",
       "    <tr style=\"text-align: right;\">\n",
       "      <th></th>\n",
       "      <th>3</th>\n",
       "      <th>6</th>\n",
       "    </tr>\n",
       "  </thead>\n",
       "  <tbody>\n",
       "    <tr>\n",
       "      <th>3</th>\n",
       "      <td>NaN</td>\n",
       "      <td>0.09434</td>\n",
       "    </tr>\n",
       "    <tr>\n",
       "      <th>6</th>\n",
       "      <td>0.09434</td>\n",
       "      <td>NaN</td>\n",
       "    </tr>\n",
       "  </tbody>\n",
       "</table>\n",
       "</div>"
      ],
      "text/plain": [
       "         3        6\n",
       "3      NaN  0.09434\n",
       "6  0.09434      NaN"
      ]
     },
     "execution_count": 7,
     "metadata": {},
     "output_type": "execute_result"
    }
   ],
   "source": [
    "filtered1 = (\n",
    "    df_distance[df_distance == min1]\n",
    "    .dropna(how='all')\n",
    "    .dropna(how='all', axis=1)\n",
    ")\n",
    "filtered1"
   ]
  },
  {
   "cell_type": "markdown",
   "metadata": {},
   "source": [
    "Добавим объекты **3** и **6** в кластер"
   ]
  },
  {
   "cell_type": "code",
   "execution_count": 8,
   "metadata": {
    "scrolled": true
   },
   "outputs": [
    {
     "data": {
      "text/html": [
       "<div>\n",
       "<style scoped>\n",
       "    .dataframe tbody tr th:only-of-type {\n",
       "        vertical-align: middle;\n",
       "    }\n",
       "\n",
       "    .dataframe tbody tr th {\n",
       "        vertical-align: top;\n",
       "    }\n",
       "\n",
       "    .dataframe thead th {\n",
       "        text-align: right;\n",
       "    }\n",
       "</style>\n",
       "<table border=\"1\" class=\"dataframe\">\n",
       "  <thead>\n",
       "    <tr style=\"text-align: right;\">\n",
       "      <th></th>\n",
       "      <th>1</th>\n",
       "      <th>2</th>\n",
       "      <th>4</th>\n",
       "      <th>5</th>\n",
       "      <th>(3, 6)</th>\n",
       "    </tr>\n",
       "  </thead>\n",
       "  <tbody>\n",
       "    <tr>\n",
       "      <th>1</th>\n",
       "      <td>0.000000</td>\n",
       "      <td>3.897397</td>\n",
       "      <td>1.830109</td>\n",
       "      <td>3.300742</td>\n",
       "      <td>1.729393</td>\n",
       "    </tr>\n",
       "    <tr>\n",
       "      <th>2</th>\n",
       "      <td>3.897397</td>\n",
       "      <td>0.000000</td>\n",
       "      <td>2.071714</td>\n",
       "      <td>0.614003</td>\n",
       "      <td>2.120094</td>\n",
       "    </tr>\n",
       "    <tr>\n",
       "      <th>4</th>\n",
       "      <td>1.830109</td>\n",
       "      <td>2.071714</td>\n",
       "      <td>0.000000</td>\n",
       "      <td>1.470850</td>\n",
       "      <td>0.194165</td>\n",
       "    </tr>\n",
       "    <tr>\n",
       "      <th>5</th>\n",
       "      <td>3.300742</td>\n",
       "      <td>0.614003</td>\n",
       "      <td>1.470850</td>\n",
       "      <td>0.000000</td>\n",
       "      <td>1.541752</td>\n",
       "    </tr>\n",
       "    <tr>\n",
       "      <th>(3, 6)</th>\n",
       "      <td>1.729393</td>\n",
       "      <td>2.120094</td>\n",
       "      <td>0.194165</td>\n",
       "      <td>1.541752</td>\n",
       "      <td>0.000000</td>\n",
       "    </tr>\n",
       "  </tbody>\n",
       "</table>\n",
       "</div>"
      ],
      "text/plain": [
       "               1         2         4         5    (3, 6)\n",
       "1       0.000000  3.897397  1.830109  3.300742  1.729393\n",
       "2       3.897397  0.000000  2.071714  0.614003  2.120094\n",
       "4       1.830109  2.071714  0.000000  1.470850  0.194165\n",
       "5       3.300742  0.614003  1.470850  0.000000  1.541752\n",
       "(3, 6)  1.729393  2.120094  0.194165  1.541752  0.000000"
      ]
     },
     "execution_count": 8,
     "metadata": {},
     "output_type": "execute_result"
    }
   ],
   "source": [
    "df_distance1 = get_nn(df_distance, True, *filtered1.index)\n",
    "df_distance1"
   ]
  },
  {
   "cell_type": "markdown",
   "metadata": {},
   "source": [
    "Снова найдем минимальное расстояние между объектами"
   ]
  },
  {
   "cell_type": "code",
   "execution_count": 9,
   "metadata": {},
   "outputs": [
    {
     "data": {
      "text/plain": [
       "0.19416487838947613"
      ]
     },
     "execution_count": 9,
     "metadata": {},
     "output_type": "execute_result"
    }
   ],
   "source": [
    "min2 = df_distance1[df_distance1 > 0].min().min()\n",
    "min2"
   ]
  },
  {
   "cell_type": "markdown",
   "metadata": {},
   "source": [
    "Найдем объекты между которыми это минимальное расстояние"
   ]
  },
  {
   "cell_type": "code",
   "execution_count": 10,
   "metadata": {},
   "outputs": [
    {
     "data": {
      "text/html": [
       "<div>\n",
       "<style scoped>\n",
       "    .dataframe tbody tr th:only-of-type {\n",
       "        vertical-align: middle;\n",
       "    }\n",
       "\n",
       "    .dataframe tbody tr th {\n",
       "        vertical-align: top;\n",
       "    }\n",
       "\n",
       "    .dataframe thead th {\n",
       "        text-align: right;\n",
       "    }\n",
       "</style>\n",
       "<table border=\"1\" class=\"dataframe\">\n",
       "  <thead>\n",
       "    <tr style=\"text-align: right;\">\n",
       "      <th></th>\n",
       "      <th>4</th>\n",
       "      <th>(3, 6)</th>\n",
       "    </tr>\n",
       "  </thead>\n",
       "  <tbody>\n",
       "    <tr>\n",
       "      <th>4</th>\n",
       "      <td>NaN</td>\n",
       "      <td>0.194165</td>\n",
       "    </tr>\n",
       "    <tr>\n",
       "      <th>(3, 6)</th>\n",
       "      <td>0.194165</td>\n",
       "      <td>NaN</td>\n",
       "    </tr>\n",
       "  </tbody>\n",
       "</table>\n",
       "</div>"
      ],
      "text/plain": [
       "               4    (3, 6)\n",
       "4            NaN  0.194165\n",
       "(3, 6)  0.194165       NaN"
      ]
     },
     "execution_count": 10,
     "metadata": {},
     "output_type": "execute_result"
    }
   ],
   "source": [
    "filtered2 = (\n",
    "    df_distance1[df_distance1 == min2]\n",
    "    .dropna(how='all')\n",
    "    .dropna(how='all', axis=1)\n",
    ")\n",
    "filtered2"
   ]
  },
  {
   "cell_type": "markdown",
   "metadata": {},
   "source": [
    "Добавим объект **4** в кластер **(3,6)**"
   ]
  },
  {
   "cell_type": "code",
   "execution_count": 11,
   "metadata": {},
   "outputs": [
    {
     "data": {
      "text/html": [
       "<div>\n",
       "<style scoped>\n",
       "    .dataframe tbody tr th:only-of-type {\n",
       "        vertical-align: middle;\n",
       "    }\n",
       "\n",
       "    .dataframe tbody tr th {\n",
       "        vertical-align: top;\n",
       "    }\n",
       "\n",
       "    .dataframe thead th {\n",
       "        text-align: right;\n",
       "    }\n",
       "</style>\n",
       "<table border=\"1\" class=\"dataframe\">\n",
       "  <thead>\n",
       "    <tr style=\"text-align: right;\">\n",
       "      <th></th>\n",
       "      <th>1</th>\n",
       "      <th>2</th>\n",
       "      <th>5</th>\n",
       "      <th>(4, 3, 6)</th>\n",
       "    </tr>\n",
       "  </thead>\n",
       "  <tbody>\n",
       "    <tr>\n",
       "      <th>1</th>\n",
       "      <td>0.000000</td>\n",
       "      <td>3.897397</td>\n",
       "      <td>3.300742</td>\n",
       "      <td>1.729393</td>\n",
       "    </tr>\n",
       "    <tr>\n",
       "      <th>2</th>\n",
       "      <td>3.897397</td>\n",
       "      <td>0.000000</td>\n",
       "      <td>0.614003</td>\n",
       "      <td>2.071714</td>\n",
       "    </tr>\n",
       "    <tr>\n",
       "      <th>5</th>\n",
       "      <td>3.300742</td>\n",
       "      <td>0.614003</td>\n",
       "      <td>0.000000</td>\n",
       "      <td>1.470850</td>\n",
       "    </tr>\n",
       "    <tr>\n",
       "      <th>(4, 3, 6)</th>\n",
       "      <td>1.729393</td>\n",
       "      <td>2.071714</td>\n",
       "      <td>1.470850</td>\n",
       "      <td>0.000000</td>\n",
       "    </tr>\n",
       "  </tbody>\n",
       "</table>\n",
       "</div>"
      ],
      "text/plain": [
       "                  1         2         5  (4, 3, 6)\n",
       "1          0.000000  3.897397  3.300742   1.729393\n",
       "2          3.897397  0.000000  0.614003   2.071714\n",
       "5          3.300742  0.614003  0.000000   1.470850\n",
       "(4, 3, 6)  1.729393  2.071714  1.470850   0.000000"
      ]
     },
     "execution_count": 11,
     "metadata": {},
     "output_type": "execute_result"
    }
   ],
   "source": [
    "df_distance2 = get_nn(df_distance1, True, *filtered2.index)\n",
    "df_distance2"
   ]
  },
  {
   "cell_type": "markdown",
   "metadata": {},
   "source": [
    "Снова найдем минимальное расстояние между объектами"
   ]
  },
  {
   "cell_type": "code",
   "execution_count": 12,
   "metadata": {},
   "outputs": [
    {
     "data": {
      "text/plain": [
       "0.6140032573203499"
      ]
     },
     "execution_count": 12,
     "metadata": {},
     "output_type": "execute_result"
    }
   ],
   "source": [
    "min3 = df_distance2[df_distance2 > 0].min().min()\n",
    "min3"
   ]
  },
  {
   "cell_type": "markdown",
   "metadata": {},
   "source": [
    "Найдем объекты между которыми это минимальное расстояние"
   ]
  },
  {
   "cell_type": "code",
   "execution_count": 13,
   "metadata": {},
   "outputs": [
    {
     "data": {
      "text/html": [
       "<div>\n",
       "<style scoped>\n",
       "    .dataframe tbody tr th:only-of-type {\n",
       "        vertical-align: middle;\n",
       "    }\n",
       "\n",
       "    .dataframe tbody tr th {\n",
       "        vertical-align: top;\n",
       "    }\n",
       "\n",
       "    .dataframe thead th {\n",
       "        text-align: right;\n",
       "    }\n",
       "</style>\n",
       "<table border=\"1\" class=\"dataframe\">\n",
       "  <thead>\n",
       "    <tr style=\"text-align: right;\">\n",
       "      <th></th>\n",
       "      <th>2</th>\n",
       "      <th>5</th>\n",
       "    </tr>\n",
       "  </thead>\n",
       "  <tbody>\n",
       "    <tr>\n",
       "      <th>2</th>\n",
       "      <td>NaN</td>\n",
       "      <td>0.614003</td>\n",
       "    </tr>\n",
       "    <tr>\n",
       "      <th>5</th>\n",
       "      <td>0.614003</td>\n",
       "      <td>NaN</td>\n",
       "    </tr>\n",
       "  </tbody>\n",
       "</table>\n",
       "</div>"
      ],
      "text/plain": [
       "          2         5\n",
       "2       NaN  0.614003\n",
       "5  0.614003       NaN"
      ]
     },
     "execution_count": 13,
     "metadata": {},
     "output_type": "execute_result"
    }
   ],
   "source": [
    "filtered3 = (\n",
    "    df_distance2[df_distance2 == min3]\n",
    "    .dropna(how='all')\n",
    "    .dropna(how='all', axis=1)\n",
    ")\n",
    "filtered3"
   ]
  },
  {
   "cell_type": "markdown",
   "metadata": {},
   "source": [
    "Добавим объекты **2** и **5** в кластер"
   ]
  },
  {
   "cell_type": "code",
   "execution_count": 14,
   "metadata": {
    "scrolled": true
   },
   "outputs": [
    {
     "data": {
      "text/html": [
       "<div>\n",
       "<style scoped>\n",
       "    .dataframe tbody tr th:only-of-type {\n",
       "        vertical-align: middle;\n",
       "    }\n",
       "\n",
       "    .dataframe tbody tr th {\n",
       "        vertical-align: top;\n",
       "    }\n",
       "\n",
       "    .dataframe thead th {\n",
       "        text-align: right;\n",
       "    }\n",
       "</style>\n",
       "<table border=\"1\" class=\"dataframe\">\n",
       "  <thead>\n",
       "    <tr style=\"text-align: right;\">\n",
       "      <th></th>\n",
       "      <th>1</th>\n",
       "      <th>(2, 5)</th>\n",
       "      <th>(4, 3, 6)</th>\n",
       "    </tr>\n",
       "  </thead>\n",
       "  <tbody>\n",
       "    <tr>\n",
       "      <th>1</th>\n",
       "      <td>0.000000</td>\n",
       "      <td>3.300742</td>\n",
       "      <td>1.729393</td>\n",
       "    </tr>\n",
       "    <tr>\n",
       "      <th>(2, 5)</th>\n",
       "      <td>3.300742</td>\n",
       "      <td>0.000000</td>\n",
       "      <td>1.470850</td>\n",
       "    </tr>\n",
       "    <tr>\n",
       "      <th>(4, 3, 6)</th>\n",
       "      <td>1.729393</td>\n",
       "      <td>1.470850</td>\n",
       "      <td>0.000000</td>\n",
       "    </tr>\n",
       "  </tbody>\n",
       "</table>\n",
       "</div>"
      ],
      "text/plain": [
       "                  1    (2, 5)  (4, 3, 6)\n",
       "1          0.000000  3.300742   1.729393\n",
       "(2, 5)     3.300742  0.000000   1.470850\n",
       "(4, 3, 6)  1.729393  1.470850   0.000000"
      ]
     },
     "execution_count": 14,
     "metadata": {},
     "output_type": "execute_result"
    }
   ],
   "source": [
    "df_distance3 = get_nn(df_distance2, True, *filtered3.index)\n",
    "df_distance3"
   ]
  },
  {
   "cell_type": "markdown",
   "metadata": {},
   "source": [
    "Снова найдем минимальное расстояние между объектами"
   ]
  },
  {
   "cell_type": "code",
   "execution_count": 15,
   "metadata": {},
   "outputs": [
    {
     "data": {
      "text/plain": [
       "1.4708500943332055"
      ]
     },
     "execution_count": 15,
     "metadata": {},
     "output_type": "execute_result"
    }
   ],
   "source": [
    "min4 = df_distance3[df_distance3 > 0].min().min()\n",
    "min4"
   ]
  },
  {
   "cell_type": "markdown",
   "metadata": {},
   "source": [
    "Найдем объекты между которыми это минимальное расстояние"
   ]
  },
  {
   "cell_type": "code",
   "execution_count": 16,
   "metadata": {},
   "outputs": [
    {
     "data": {
      "text/html": [
       "<div>\n",
       "<style scoped>\n",
       "    .dataframe tbody tr th:only-of-type {\n",
       "        vertical-align: middle;\n",
       "    }\n",
       "\n",
       "    .dataframe tbody tr th {\n",
       "        vertical-align: top;\n",
       "    }\n",
       "\n",
       "    .dataframe thead th {\n",
       "        text-align: right;\n",
       "    }\n",
       "</style>\n",
       "<table border=\"1\" class=\"dataframe\">\n",
       "  <thead>\n",
       "    <tr style=\"text-align: right;\">\n",
       "      <th></th>\n",
       "      <th>(2, 5)</th>\n",
       "      <th>(4, 3, 6)</th>\n",
       "    </tr>\n",
       "  </thead>\n",
       "  <tbody>\n",
       "    <tr>\n",
       "      <th>(2, 5)</th>\n",
       "      <td>NaN</td>\n",
       "      <td>1.47085</td>\n",
       "    </tr>\n",
       "    <tr>\n",
       "      <th>(4, 3, 6)</th>\n",
       "      <td>1.47085</td>\n",
       "      <td>NaN</td>\n",
       "    </tr>\n",
       "  </tbody>\n",
       "</table>\n",
       "</div>"
      ],
      "text/plain": [
       "            (2, 5)  (4, 3, 6)\n",
       "(2, 5)         NaN    1.47085\n",
       "(4, 3, 6)  1.47085        NaN"
      ]
     },
     "execution_count": 16,
     "metadata": {},
     "output_type": "execute_result"
    }
   ],
   "source": [
    "filtered4 = (\n",
    "    df_distance3[df_distance3 == min4]\n",
    "    .dropna(how='all')\n",
    "    .dropna(how='all', axis=1)\n",
    ")\n",
    "filtered4"
   ]
  },
  {
   "cell_type": "markdown",
   "metadata": {},
   "source": [
    "Объединим кластеры **(2, 5)** и **(4, 3, 6)**"
   ]
  },
  {
   "cell_type": "code",
   "execution_count": 17,
   "metadata": {},
   "outputs": [
    {
     "data": {
      "text/html": [
       "<div>\n",
       "<style scoped>\n",
       "    .dataframe tbody tr th:only-of-type {\n",
       "        vertical-align: middle;\n",
       "    }\n",
       "\n",
       "    .dataframe tbody tr th {\n",
       "        vertical-align: top;\n",
       "    }\n",
       "\n",
       "    .dataframe thead th {\n",
       "        text-align: right;\n",
       "    }\n",
       "</style>\n",
       "<table border=\"1\" class=\"dataframe\">\n",
       "  <thead>\n",
       "    <tr style=\"text-align: right;\">\n",
       "      <th></th>\n",
       "      <th>1</th>\n",
       "      <th>(2, 5, 4, 3, 6)</th>\n",
       "    </tr>\n",
       "  </thead>\n",
       "  <tbody>\n",
       "    <tr>\n",
       "      <th>1</th>\n",
       "      <td>0.000000</td>\n",
       "      <td>1.729393</td>\n",
       "    </tr>\n",
       "    <tr>\n",
       "      <th>(2, 5, 4, 3, 6)</th>\n",
       "      <td>1.729393</td>\n",
       "      <td>0.000000</td>\n",
       "    </tr>\n",
       "  </tbody>\n",
       "</table>\n",
       "</div>"
      ],
      "text/plain": [
       "                        1  (2, 5, 4, 3, 6)\n",
       "1                0.000000         1.729393\n",
       "(2, 5, 4, 3, 6)  1.729393         0.000000"
      ]
     },
     "execution_count": 17,
     "metadata": {},
     "output_type": "execute_result"
    }
   ],
   "source": [
    "df_distance4 = get_nn(df_distance3, True, *filtered4.index)\n",
    "df_distance4"
   ]
  },
  {
   "cell_type": "markdown",
   "metadata": {},
   "source": [
    "Получилось 2 кластера\n",
    "- 1\n",
    "- (2, 5, 4, 3, 6)"
   ]
  },
  {
   "cell_type": "markdown",
   "metadata": {},
   "source": [
    "Визуализируем получившиеся кластера"
   ]
  },
  {
   "cell_type": "code",
   "execution_count": 18,
   "metadata": {},
   "outputs": [
    {
     "data": {
      "image/png": "[encoded data removed]",
      "text/plain": [
       "<Figure size 432x288 with 1 Axes>"
      ]
     },
     "metadata": {
      "needs_background": "light"
     },
     "output_type": "display_data"
    }
   ],
   "source": [
    "colors = ['purple', 'orange']\n",
    "\n",
    "\n",
    "def get_color(index):\n",
    "    for i, s in enumerate(df_distance4.index):\n",
    "        if type(s) is tuple:\n",
    "            if index in s:\n",
    "                return colors[i]\n",
    "        else:\n",
    "             if index == s:\n",
    "                return colors[i]\n",
    "    return 'blue'    \n",
    "ax = df.plot.scatter(x=\"X1\", y=\"X2\", s=100, c=[get_color(i) for i in range(1,7)]);\n",
    "\n",
    "for i, point in df.iterrows():\n",
    "    ax.text(point['X1'], point['X2'], \"   \" + str(i))"
   ]
  },
  {
   "cell_type": "markdown",
   "metadata": {},
   "source": [
    "Построим дендрограмму, так же проверим свое решение, получив результат с помощью библиотеки [scipy.cluster.hierarchy](https://docs.scipy.org/doc/scipy/reference/generated/scipy.cluster.hierarchy.linkage.html#scipy.cluster.hierarchy.linkage)"
   ]
  },
  {
   "cell_type": "code",
   "execution_count": 19,
   "metadata": {},
   "outputs": [
    {
     "data": {
      "image/png": "[encoded data removed]",
      "text/plain": [
       "<Figure size 720x576 with 1 Axes>"
      ]
     },
     "metadata": {
      "needs_background": "light"
     },
     "output_type": "display_data"
    }
   ],
   "source": [
    "Z = linkage(data, 'single')\n",
    "fig = plt.figure(figsize=(10, 8))\n",
    "dn = dendrogram(Z, labels=[1,2,3,4,5,6])\n",
    "\n",
    "for i, d in zip(dn['icoord'], dn['dcoord']):\n",
    "    x = 0.5 * sum(i[1:3])\n",
    "    y = d[1]\n",
    "    plt.annotate(\"%.3g\" % y, (x, y), xytext=(0, -8),\n",
    "                 textcoords='offset points',\n",
    "                 va='top', ha='center')\n",
    "    \n",
    "plt.show()"
   ]
  },
  {
   "cell_type": "markdown",
   "metadata": {},
   "source": [
    "**Вывод:** Как мы видим результаты полученные ручным способом совпадают с результатом работы библиотеки "
   ]
  },
  {
   "cell_type": "markdown",
   "metadata": {},
   "source": [
    "### Принцип «дальнего соседа»\n",
    "\n",
    "Для этого воспользуемся функцией **get_nn** с параметром **is_nearest=False**"
   ]
  },
  {
   "cell_type": "markdown",
   "metadata": {},
   "source": [
    "Найдем минимальное расстояние между парами"
   ]
  },
  {
   "cell_type": "code",
   "execution_count": 20,
   "metadata": {},
   "outputs": [
    {
     "data": {
      "text/plain": [
       "0.09433981132056596"
      ]
     },
     "execution_count": 20,
     "metadata": {},
     "output_type": "execute_result"
    }
   ],
   "source": [
    "min5 = df_distance[df_distance > 0].min().min()\n",
    "min5"
   ]
  },
  {
   "cell_type": "markdown",
   "metadata": {},
   "source": [
    "Найдем объекты между которыми это минимальное расстояние"
   ]
  },
  {
   "cell_type": "code",
   "execution_count": 21,
   "metadata": {
    "scrolled": true
   },
   "outputs": [
    {
     "data": {
      "text/html": [
       "<div>\n",
       "<style scoped>\n",
       "    .dataframe tbody tr th:only-of-type {\n",
       "        vertical-align: middle;\n",
       "    }\n",
       "\n",
       "    .dataframe tbody tr th {\n",
       "        vertical-align: top;\n",
       "    }\n",
       "\n",
       "    .dataframe thead th {\n",
       "        text-align: right;\n",
       "    }\n",
       "</style>\n",
       "<table border=\"1\" class=\"dataframe\">\n",
       "  <thead>\n",
       "    <tr style=\"text-align: right;\">\n",
       "      <th></th>\n",
       "      <th>3</th>\n",
       "      <th>6</th>\n",
       "    </tr>\n",
       "  </thead>\n",
       "  <tbody>\n",
       "    <tr>\n",
       "      <th>3</th>\n",
       "      <td>NaN</td>\n",
       "      <td>0.09434</td>\n",
       "    </tr>\n",
       "    <tr>\n",
       "      <th>6</th>\n",
       "      <td>0.09434</td>\n",
       "      <td>NaN</td>\n",
       "    </tr>\n",
       "  </tbody>\n",
       "</table>\n",
       "</div>"
      ],
      "text/plain": [
       "         3        6\n",
       "3      NaN  0.09434\n",
       "6  0.09434      NaN"
      ]
     },
     "execution_count": 21,
     "metadata": {},
     "output_type": "execute_result"
    }
   ],
   "source": [
    "filtered4 = (\n",
    "    df_distance[df_distance == min5]\n",
    "    .dropna(how='all')\n",
    "    .dropna(how='all', axis=1)\n",
    ")\n",
    "filtered4"
   ]
  },
  {
   "cell_type": "markdown",
   "metadata": {},
   "source": [
    "Добавим объекты **3** и **6** в кластер"
   ]
  },
  {
   "cell_type": "code",
   "execution_count": 22,
   "metadata": {
    "scrolled": true
   },
   "outputs": [
    {
     "data": {
      "text/html": [
       "<div>\n",
       "<style scoped>\n",
       "    .dataframe tbody tr th:only-of-type {\n",
       "        vertical-align: middle;\n",
       "    }\n",
       "\n",
       "    .dataframe tbody tr th {\n",
       "        vertical-align: top;\n",
       "    }\n",
       "\n",
       "    .dataframe thead th {\n",
       "        text-align: right;\n",
       "    }\n",
       "</style>\n",
       "<table border=\"1\" class=\"dataframe\">\n",
       "  <thead>\n",
       "    <tr style=\"text-align: right;\">\n",
       "      <th></th>\n",
       "      <th>1</th>\n",
       "      <th>2</th>\n",
       "      <th>4</th>\n",
       "      <th>5</th>\n",
       "      <th>(3, 6)</th>\n",
       "    </tr>\n",
       "  </thead>\n",
       "  <tbody>\n",
       "    <tr>\n",
       "      <th>1</th>\n",
       "      <td>0.000000</td>\n",
       "      <td>3.897397</td>\n",
       "      <td>1.830109</td>\n",
       "      <td>3.300742</td>\n",
       "      <td>1.788994</td>\n",
       "    </tr>\n",
       "    <tr>\n",
       "      <th>2</th>\n",
       "      <td>3.897397</td>\n",
       "      <td>0.000000</td>\n",
       "      <td>2.071714</td>\n",
       "      <td>0.614003</td>\n",
       "      <td>2.170829</td>\n",
       "    </tr>\n",
       "    <tr>\n",
       "      <th>4</th>\n",
       "      <td>1.830109</td>\n",
       "      <td>2.071714</td>\n",
       "      <td>0.000000</td>\n",
       "      <td>1.470850</td>\n",
       "      <td>0.247386</td>\n",
       "    </tr>\n",
       "    <tr>\n",
       "      <th>5</th>\n",
       "      <td>3.300742</td>\n",
       "      <td>0.614003</td>\n",
       "      <td>1.470850</td>\n",
       "      <td>0.000000</td>\n",
       "      <td>1.583824</td>\n",
       "    </tr>\n",
       "    <tr>\n",
       "      <th>(3, 6)</th>\n",
       "      <td>1.788994</td>\n",
       "      <td>2.170829</td>\n",
       "      <td>0.247386</td>\n",
       "      <td>1.583824</td>\n",
       "      <td>0.000000</td>\n",
       "    </tr>\n",
       "  </tbody>\n",
       "</table>\n",
       "</div>"
      ],
      "text/plain": [
       "               1         2         4         5    (3, 6)\n",
       "1       0.000000  3.897397  1.830109  3.300742  1.788994\n",
       "2       3.897397  0.000000  2.071714  0.614003  2.170829\n",
       "4       1.830109  2.071714  0.000000  1.470850  0.247386\n",
       "5       3.300742  0.614003  1.470850  0.000000  1.583824\n",
       "(3, 6)  1.788994  2.170829  0.247386  1.583824  0.000000"
      ]
     },
     "execution_count": 22,
     "metadata": {},
     "output_type": "execute_result"
    }
   ],
   "source": [
    "df_distance5 = get_nn(df_distance, False, *filtered4.index)\n",
    "df_distance5"
   ]
  },
  {
   "cell_type": "markdown",
   "metadata": {},
   "source": [
    "Снова найдем минимальное расстояние между объектами"
   ]
  },
  {
   "cell_type": "code",
   "execution_count": 23,
   "metadata": {},
   "outputs": [
    {
     "data": {
      "text/plain": [
       "0.24738633753705974"
      ]
     },
     "execution_count": 23,
     "metadata": {},
     "output_type": "execute_result"
    }
   ],
   "source": [
    "min6 = df_distance5[df_distance5 > 0].min().min()\n",
    "min6"
   ]
  },
  {
   "cell_type": "markdown",
   "metadata": {},
   "source": [
    "Найдем объекты между которыми это минимальное расстояние"
   ]
  },
  {
   "cell_type": "code",
   "execution_count": 24,
   "metadata": {},
   "outputs": [
    {
     "data": {
      "text/html": [
       "<div>\n",
       "<style scoped>\n",
       "    .dataframe tbody tr th:only-of-type {\n",
       "        vertical-align: middle;\n",
       "    }\n",
       "\n",
       "    .dataframe tbody tr th {\n",
       "        vertical-align: top;\n",
       "    }\n",
       "\n",
       "    .dataframe thead th {\n",
       "        text-align: right;\n",
       "    }\n",
       "</style>\n",
       "<table border=\"1\" class=\"dataframe\">\n",
       "  <thead>\n",
       "    <tr style=\"text-align: right;\">\n",
       "      <th></th>\n",
       "      <th>4</th>\n",
       "      <th>(3, 6)</th>\n",
       "    </tr>\n",
       "  </thead>\n",
       "  <tbody>\n",
       "    <tr>\n",
       "      <th>4</th>\n",
       "      <td>NaN</td>\n",
       "      <td>0.247386</td>\n",
       "    </tr>\n",
       "    <tr>\n",
       "      <th>(3, 6)</th>\n",
       "      <td>0.247386</td>\n",
       "      <td>NaN</td>\n",
       "    </tr>\n",
       "  </tbody>\n",
       "</table>\n",
       "</div>"
      ],
      "text/plain": [
       "               4    (3, 6)\n",
       "4            NaN  0.247386\n",
       "(3, 6)  0.247386       NaN"
      ]
     },
     "execution_count": 24,
     "metadata": {},
     "output_type": "execute_result"
    }
   ],
   "source": [
    "filtered5 = (\n",
    "    df_distance5[df_distance5 == min6]\n",
    "    .dropna(how='all')\n",
    "    .dropna(how='all', axis=1)\n",
    ")\n",
    "filtered5"
   ]
  },
  {
   "cell_type": "markdown",
   "metadata": {},
   "source": [
    "Добавим объект **4** в кластер **(3, 6)**"
   ]
  },
  {
   "cell_type": "code",
   "execution_count": 25,
   "metadata": {},
   "outputs": [
    {
     "data": {
      "text/html": [
       "<div>\n",
       "<style scoped>\n",
       "    .dataframe tbody tr th:only-of-type {\n",
       "        vertical-align: middle;\n",
       "    }\n",
       "\n",
       "    .dataframe tbody tr th {\n",
       "        vertical-align: top;\n",
       "    }\n",
       "\n",
       "    .dataframe thead th {\n",
       "        text-align: right;\n",
       "    }\n",
       "</style>\n",
       "<table border=\"1\" class=\"dataframe\">\n",
       "  <thead>\n",
       "    <tr style=\"text-align: right;\">\n",
       "      <th></th>\n",
       "      <th>1</th>\n",
       "      <th>2</th>\n",
       "      <th>5</th>\n",
       "      <th>(4, 3, 6)</th>\n",
       "    </tr>\n",
       "  </thead>\n",
       "  <tbody>\n",
       "    <tr>\n",
       "      <th>1</th>\n",
       "      <td>0.000000</td>\n",
       "      <td>3.897397</td>\n",
       "      <td>3.300742</td>\n",
       "      <td>1.830109</td>\n",
       "    </tr>\n",
       "    <tr>\n",
       "      <th>2</th>\n",
       "      <td>3.897397</td>\n",
       "      <td>0.000000</td>\n",
       "      <td>0.614003</td>\n",
       "      <td>2.170829</td>\n",
       "    </tr>\n",
       "    <tr>\n",
       "      <th>5</th>\n",
       "      <td>3.300742</td>\n",
       "      <td>0.614003</td>\n",
       "      <td>0.000000</td>\n",
       "      <td>1.583824</td>\n",
       "    </tr>\n",
       "    <tr>\n",
       "      <th>(4, 3, 6)</th>\n",
       "      <td>1.830109</td>\n",
       "      <td>2.170829</td>\n",
       "      <td>1.583824</td>\n",
       "      <td>0.000000</td>\n",
       "    </tr>\n",
       "  </tbody>\n",
       "</table>\n",
       "</div>"
      ],
      "text/plain": [
       "                  1         2         5  (4, 3, 6)\n",
       "1          0.000000  3.897397  3.300742   1.830109\n",
       "2          3.897397  0.000000  0.614003   2.170829\n",
       "5          3.300742  0.614003  0.000000   1.583824\n",
       "(4, 3, 6)  1.830109  2.170829  1.583824   0.000000"
      ]
     },
     "execution_count": 25,
     "metadata": {},
     "output_type": "execute_result"
    }
   ],
   "source": [
    "df_distance6 = get_nn(df_distance5, False, *filtered5.index)\n",
    "df_distance6"
   ]
  },
  {
   "cell_type": "markdown",
   "metadata": {},
   "source": [
    "Снова найдем минимальное расстояние между объектами"
   ]
  },
  {
   "cell_type": "code",
   "execution_count": 26,
   "metadata": {},
   "outputs": [
    {
     "data": {
      "text/plain": [
       "0.6140032573203499"
      ]
     },
     "execution_count": 26,
     "metadata": {},
     "output_type": "execute_result"
    }
   ],
   "source": [
    "min7 = df_distance6[df_distance6 > 0].min().min()\n",
    "min7"
   ]
  },
  {
   "cell_type": "markdown",
   "metadata": {},
   "source": [
    "Найдем объекты между которыми это минимальное расстояние"
   ]
  },
  {
   "cell_type": "code",
   "execution_count": 27,
   "metadata": {},
   "outputs": [
    {
     "data": {
      "text/html": [
       "<div>\n",
       "<style scoped>\n",
       "    .dataframe tbody tr th:only-of-type {\n",
       "        vertical-align: middle;\n",
       "    }\n",
       "\n",
       "    .dataframe tbody tr th {\n",
       "        vertical-align: top;\n",
       "    }\n",
       "\n",
       "    .dataframe thead th {\n",
       "        text-align: right;\n",
       "    }\n",
       "</style>\n",
       "<table border=\"1\" class=\"dataframe\">\n",
       "  <thead>\n",
       "    <tr style=\"text-align: right;\">\n",
       "      <th></th>\n",
       "      <th>2</th>\n",
       "      <th>5</th>\n",
       "    </tr>\n",
       "  </thead>\n",
       "  <tbody>\n",
       "    <tr>\n",
       "      <th>2</th>\n",
       "      <td>NaN</td>\n",
       "      <td>0.614003</td>\n",
       "    </tr>\n",
       "    <tr>\n",
       "      <th>5</th>\n",
       "      <td>0.614003</td>\n",
       "      <td>NaN</td>\n",
       "    </tr>\n",
       "  </tbody>\n",
       "</table>\n",
       "</div>"
      ],
      "text/plain": [
       "          2         5\n",
       "2       NaN  0.614003\n",
       "5  0.614003       NaN"
      ]
     },
     "execution_count": 27,
     "metadata": {},
     "output_type": "execute_result"
    }
   ],
   "source": [
    "filtered6 = (\n",
    "    df_distance6[df_distance6 == min7]\n",
    "    .dropna(how='all')\n",
    "    .dropna(how='all', axis=1)\n",
    ")\n",
    "filtered6"
   ]
  },
  {
   "cell_type": "markdown",
   "metadata": {},
   "source": [
    "Добавим объект **5** и **2** в кластер"
   ]
  },
  {
   "cell_type": "code",
   "execution_count": 28,
   "metadata": {},
   "outputs": [
    {
     "data": {
      "text/html": [
       "<div>\n",
       "<style scoped>\n",
       "    .dataframe tbody tr th:only-of-type {\n",
       "        vertical-align: middle;\n",
       "    }\n",
       "\n",
       "    .dataframe tbody tr th {\n",
       "        vertical-align: top;\n",
       "    }\n",
       "\n",
       "    .dataframe thead th {\n",
       "        text-align: right;\n",
       "    }\n",
       "</style>\n",
       "<table border=\"1\" class=\"dataframe\">\n",
       "  <thead>\n",
       "    <tr style=\"text-align: right;\">\n",
       "      <th></th>\n",
       "      <th>1</th>\n",
       "      <th>(2, 5)</th>\n",
       "      <th>(4, 3, 6)</th>\n",
       "    </tr>\n",
       "  </thead>\n",
       "  <tbody>\n",
       "    <tr>\n",
       "      <th>1</th>\n",
       "      <td>0.000000</td>\n",
       "      <td>3.897397</td>\n",
       "      <td>1.830109</td>\n",
       "    </tr>\n",
       "    <tr>\n",
       "      <th>(2, 5)</th>\n",
       "      <td>3.897397</td>\n",
       "      <td>0.000000</td>\n",
       "      <td>2.170829</td>\n",
       "    </tr>\n",
       "    <tr>\n",
       "      <th>(4, 3, 6)</th>\n",
       "      <td>1.830109</td>\n",
       "      <td>2.170829</td>\n",
       "      <td>0.000000</td>\n",
       "    </tr>\n",
       "  </tbody>\n",
       "</table>\n",
       "</div>"
      ],
      "text/plain": [
       "                  1    (2, 5)  (4, 3, 6)\n",
       "1          0.000000  3.897397   1.830109\n",
       "(2, 5)     3.897397  0.000000   2.170829\n",
       "(4, 3, 6)  1.830109  2.170829   0.000000"
      ]
     },
     "execution_count": 28,
     "metadata": {},
     "output_type": "execute_result"
    }
   ],
   "source": [
    "df_distance7 = get_nn(df_distance6, False, *filtered6.index)\n",
    "df_distance7"
   ]
  },
  {
   "cell_type": "markdown",
   "metadata": {},
   "source": [
    "Снова найдем минимальное расстояние между объектами"
   ]
  },
  {
   "cell_type": "code",
   "execution_count": 29,
   "metadata": {},
   "outputs": [
    {
     "data": {
      "text/plain": [
       "1.8301092863542339"
      ]
     },
     "execution_count": 29,
     "metadata": {},
     "output_type": "execute_result"
    }
   ],
   "source": [
    "min8 = df_distance7[df_distance7 > 0].min().min()\n",
    "min8"
   ]
  },
  {
   "cell_type": "markdown",
   "metadata": {},
   "source": [
    "Найдем объекты между которыми это минимальное расстояние"
   ]
  },
  {
   "cell_type": "code",
   "execution_count": 30,
   "metadata": {},
   "outputs": [
    {
     "data": {
      "text/html": [
       "<div>\n",
       "<style scoped>\n",
       "    .dataframe tbody tr th:only-of-type {\n",
       "        vertical-align: middle;\n",
       "    }\n",
       "\n",
       "    .dataframe tbody tr th {\n",
       "        vertical-align: top;\n",
       "    }\n",
       "\n",
       "    .dataframe thead th {\n",
       "        text-align: right;\n",
       "    }\n",
       "</style>\n",
       "<table border=\"1\" class=\"dataframe\">\n",
       "  <thead>\n",
       "    <tr style=\"text-align: right;\">\n",
       "      <th></th>\n",
       "      <th>1</th>\n",
       "      <th>(4, 3, 6)</th>\n",
       "    </tr>\n",
       "  </thead>\n",
       "  <tbody>\n",
       "    <tr>\n",
       "      <th>1</th>\n",
       "      <td>NaN</td>\n",
       "      <td>1.830109</td>\n",
       "    </tr>\n",
       "    <tr>\n",
       "      <th>(4, 3, 6)</th>\n",
       "      <td>1.830109</td>\n",
       "      <td>NaN</td>\n",
       "    </tr>\n",
       "  </tbody>\n",
       "</table>\n",
       "</div>"
      ],
      "text/plain": [
       "                  1  (4, 3, 6)\n",
       "1               NaN   1.830109\n",
       "(4, 3, 6)  1.830109        NaN"
      ]
     },
     "execution_count": 30,
     "metadata": {},
     "output_type": "execute_result"
    }
   ],
   "source": [
    "filtered7 = (\n",
    "    df_distance6[df_distance6 == min8]\n",
    "    .dropna(how='all')\n",
    "    .dropna(how='all', axis=1)\n",
    ")\n",
    "filtered7"
   ]
  },
  {
   "cell_type": "markdown",
   "metadata": {},
   "source": [
    "Добавим объект **1** в кластер **(4, 3, 6)**"
   ]
  },
  {
   "cell_type": "code",
   "execution_count": 31,
   "metadata": {},
   "outputs": [
    {
     "data": {
      "text/html": [
       "<div>\n",
       "<style scoped>\n",
       "    .dataframe tbody tr th:only-of-type {\n",
       "        vertical-align: middle;\n",
       "    }\n",
       "\n",
       "    .dataframe tbody tr th {\n",
       "        vertical-align: top;\n",
       "    }\n",
       "\n",
       "    .dataframe thead th {\n",
       "        text-align: right;\n",
       "    }\n",
       "</style>\n",
       "<table border=\"1\" class=\"dataframe\">\n",
       "  <thead>\n",
       "    <tr style=\"text-align: right;\">\n",
       "      <th></th>\n",
       "      <th>(2, 5)</th>\n",
       "      <th>(1, 4, 3, 6)</th>\n",
       "    </tr>\n",
       "  </thead>\n",
       "  <tbody>\n",
       "    <tr>\n",
       "      <th>(2, 5)</th>\n",
       "      <td>0.000000</td>\n",
       "      <td>3.897397</td>\n",
       "    </tr>\n",
       "    <tr>\n",
       "      <th>(1, 4, 3, 6)</th>\n",
       "      <td>3.897397</td>\n",
       "      <td>0.000000</td>\n",
       "    </tr>\n",
       "  </tbody>\n",
       "</table>\n",
       "</div>"
      ],
      "text/plain": [
       "                (2, 5)  (1, 4, 3, 6)\n",
       "(2, 5)        0.000000      3.897397\n",
       "(1, 4, 3, 6)  3.897397      0.000000"
      ]
     },
     "execution_count": 31,
     "metadata": {},
     "output_type": "execute_result"
    }
   ],
   "source": [
    "df_distance8 = get_nn(df_distance7, False, *filtered7.index)\n",
    "df_distance8"
   ]
  },
  {
   "cell_type": "markdown",
   "metadata": {},
   "source": [
    "Получилось 2 кластера\n",
    "- (2, 5)\n",
    "- (1, 4, 3, 6)"
   ]
  },
  {
   "cell_type": "code",
   "execution_count": 32,
   "metadata": {},
   "outputs": [
    {
     "ename": "SyntaxError",
     "evalue": "invalid syntax (<ipython-input-32-e6874f1702f8>, line 1)",
     "output_type": "error",
     "traceback": [
      "\u001b[0;36m  File \u001b[0;32m\"<ipython-input-32-e6874f1702f8>\"\u001b[0;36m, line \u001b[0;32m1\u001b[0m\n\u001b[0;31m    Визуализируем получившиеся кластера\u001b[0m\n\u001b[0m                             ^\u001b[0m\n\u001b[0;31mSyntaxError\u001b[0m\u001b[0;31m:\u001b[0m invalid syntax\n"
     ]
    }
   ],
   "source": [
    "Визуализируем получившиеся кластера"
   ]
  },
  {
   "cell_type": "code",
   "execution_count": 33,
   "metadata": {},
   "outputs": [
    {
     "data": {
      "image/png": "[encoded data removed]",
      "text/plain": [
       "<Figure size 432x288 with 1 Axes>"
      ]
     },
     "metadata": {
      "needs_background": "light"
     },
     "output_type": "display_data"
    }
   ],
   "source": [
    "colors = ['purple', 'orange']\n",
    "\n",
    "\n",
    "def get_color(index):\n",
    "    for i, s in enumerate(df_distance8.index):\n",
    "        if type(s) is tuple:\n",
    "            if index in s:\n",
    "                return colors[i]\n",
    "        else:\n",
    "             if index == s:\n",
    "                return colors[i]\n",
    "    return 'blue'    \n",
    "ax = df.plot.scatter(x=\"X1\", y=\"X2\", s=100, c=[get_color(i) for i in range(1,7)]);\n",
    "\n",
    "for i, point in df.iterrows():\n",
    "    ax.text(point['X1'], point['X2'], \"   \" + str(i))"
   ]
  },
  {
   "cell_type": "markdown",
   "metadata": {},
   "source": [
    "Построим дендрограмму, так же проверим свое решение, получив результат с помощью библиотеки [scipy.cluster.hierarchy](https://docs.scipy.org/doc/scipy/reference/generated/scipy.cluster.hierarchy.linkage.html#scipy.cluster.hierarchy.linkage)"
   ]
  },
  {
   "cell_type": "code",
   "execution_count": 34,
   "metadata": {},
   "outputs": [
    {
     "data": {
      "image/png": "[encoded data removed]",
      "text/plain": [
       "<Figure size 864x864 with 1 Axes>"
      ]
     },
     "metadata": {
      "needs_background": "light"
     },
     "output_type": "display_data"
    }
   ],
   "source": [
    "Z = linkage(data, 'complete')\n",
    "fig = plt.figure(figsize=(12, 12))\n",
    "dn = dendrogram(Z, labels=[1,2,3,4,5,6])\n",
    "\n",
    "for i, d in zip(dn['icoord'], dn['dcoord']):\n",
    "    x = 0.5 * sum(i[1:3])\n",
    "    y = d[1]\n",
    "    plt.annotate(\"%.3g\" % y, (x, y), xytext=(0, -8),\n",
    "                 textcoords='offset points',\n",
    "                 va='top', ha='center')\n",
    "    \n",
    "plt.show()"
   ]
  },
  {
   "cell_type": "markdown",
   "metadata": {},
   "source": [
    "**Вывод:** Как мы видим результаты полученные ручным способом совпадают с результатом работы библиотеки "
   ]
  }
 ],
 "metadata": {
  "kernelspec": {
   "display_name": "Python 3",
   "language": "python",
   "name": "python3"
  },
  "language_info": {
   "codemirror_mode": {
    "name": "ipython",
    "version": 3
   },
   "file_extension": ".py",
   "mimetype": "text/x-python",
   "name": "python",
   "nbconvert_exporter": "python",
   "pygments_lexer": "ipython3",
   "version": "3.7.4"
  }
 },
 "nbformat": 4,
 "nbformat_minor": 2
}
